{
 "cells": [
  {
   "cell_type": "code",
   "execution_count": 1,
   "id": "52ee5800",
   "metadata": {},
   "outputs": [
    {
     "name": "stdout",
     "output_type": "stream",
     "text": [
      "['GOT', 'breaking bad', 'stranger things', 'vikings']\n"
     ]
    }
   ],
   "source": [
    "list=[\"GOT\",\"breaking bad\",\"stranger things\",\"vikings\"]\n",
    "print(list)"
   ]
  },
  {
   "cell_type": "code",
   "execution_count": 4,
   "id": "fcb58ae2",
   "metadata": {},
   "outputs": [
    {
     "name": "stdout",
     "output_type": "stream",
     "text": [
      "enter your favourite show and moviedark\n",
      "enter your favourite show and moviepeaky blinders\n"
     ]
    }
   ],
   "source": [
    "item1=input(\"enter your favourite show and movie: \")\n",
    "item2=input(\"enter your favourite show and movie: \")\n",
    "list.append(item1)\n",
    "list.append(item2)"
   ]
  },
  {
   "cell_type": "code",
   "execution_count": 7,
   "id": "427dc787",
   "metadata": {},
   "outputs": [
    {
     "name": "stdout",
     "output_type": "stream",
     "text": [
      "['breaking bad', 'vikings', 'peaky blinders']\n"
     ]
    }
   ],
   "source": [
    "print(list[1:7:2])"
   ]
  },
  {
   "cell_type": "code",
   "execution_count": 12,
   "id": "4264275b",
   "metadata": {},
   "outputs": [
    {
     "name": "stdout",
     "output_type": "stream",
     "text": [
      "sum of five integers is 15\n"
     ]
    }
   ],
   "source": [
    "list2=[1,2,3,4,5]\n",
    "i=0\n",
    "sum=0\n",
    "while(i<5):\n",
    "    sum=sum+list2[i]\n",
    "    i=i+1\n",
    "print(\"sum of five integers is\",sum)    \n",
    "    \n",
    "    \n"
   ]
  },
  {
   "cell_type": "code",
   "execution_count": 11,
   "id": "e6fcb6c0",
   "metadata": {},
   "outputs": [
    {
     "name": "stdout",
     "output_type": "stream",
     "text": [
      "1 \n",
      "\n",
      "1 2 \n",
      "\n",
      "1 2 3 \n",
      "\n",
      "1 2 3 4 \n",
      "\n",
      "1 2 3 4 5 \n",
      "\n"
     ]
    }
   ],
   "source": [
    "i=1\n",
    "j=1\n",
    "while(i<6):\n",
    "    while(j<=i):\n",
    "        print(j,end=\" \")\n",
    "        j=j+1\n",
    "    print(\"\\n\")\n",
    "    j=1\n",
    "    i=i+1"
   ]
  },
  {
   "cell_type": "code",
   "execution_count": null,
   "id": "b8573e86",
   "metadata": {},
   "outputs": [],
   "source": []
  }
 ],
 "metadata": {
  "kernelspec": {
   "display_name": "Python 3",
   "language": "python",
   "name": "python3"
  },
  "language_info": {
   "codemirror_mode": {
    "name": "ipython",
    "version": 3
   },
   "file_extension": ".py",
   "mimetype": "text/x-python",
   "name": "python",
   "nbconvert_exporter": "python",
   "pygments_lexer": "ipython3",
   "version": "3.8.8"
  }
 },
 "nbformat": 4,
 "nbformat_minor": 5
}
